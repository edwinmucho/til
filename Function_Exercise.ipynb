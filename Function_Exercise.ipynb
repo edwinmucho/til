{
 "cells": [
  {
   "cell_type": "raw",
   "metadata": {},
   "source": [
    "4.13 연습문제\n",
    "\n",
    "4.1 guess_me 변수에 7을 할당한다. 그리고 값이 7 보다 작으면 문자열 'too low' 를, 7 보다 크면 'too high'를, 7과 같으면 'just right' 를 출력하는 조건 테스트(if, elif, else) 를 작성하라.\n",
    "\n",
    "\n",
    "\n",
    "4.3 for 문으로 리스트값 [3, 2, 1, 0] 을 출력하라.\n",
    "\n",
    "4.4 리스트 컴프리헨션을 이용하여 range(10) 에서 짝수 리스트를 만들어라.\n",
    "\n",
    "4.5 딕셔너리 컴프리헨션을 이용하여 squares 딕셔너리를 생성하라.\n",
    "Range(10) 의 반환값을 키로 하고, 각 키의 제곱을 값으로 한다.\n",
    "\n",
    "4.6 셋 컴프리헨션을 이용하여 range(10) 에서 홀수 셋을 만들어라.\n",
    "\n",
    "4.7 제너레이터 컴프리헨션을 이용하여 문자열 'Got ' 과 range(10) 의 각 숫자를 반환하라.\n",
    "For 문을 사용해서 제너레이터를 순회한다.\n",
    "\n",
    "4.8 ['Harry', 'Ron', 'Hermione'] 리스트를 반환하는 good 함수를 정의하라.\n",
    "\n",
    "4.9 range(10) 의 홀수를 반환하는 get_odds 제너레이터 함수를 정의하라. For 문으로 반환된 세 번째 홀수를 찾아서 출력하라.\n",
    "\n",
    "4.10 어떤 함수 호출되면 'start' 를 , 끝나면 'end' 를 출력하는 test 데커레이터를 정의하라.\n",
    "\n",
    "4.11 OopsException 이라는 예외를 정의하라. 이 예외를 발생시켜서 무슨 일이 일어나는지 살펴보라. 이 예외를 잡아서 'Caught an oops' 를 출력하는 코드를 작성하라.\n",
    "\n",
    "4.12 zip() 함수를 사용하여 다음 두 리스트를 짝으로 하는 movies 딕셔너리를 만들어라.\n",
    "Titles =['Creature of Habit', 'Crewel Fate']\n",
    "Plote = ['A nun turns into a mon ster', 'A haunted yarn shop']"
   ]
  },
  {
   "cell_type": "code",
   "execution_count": 1,
   "metadata": {},
   "outputs": [
    {
     "name": "stdout",
     "output_type": "stream",
     "text": [
      "just right\n"
     ]
    }
   ],
   "source": [
    "guess_me = 7\n",
    "str = \"\"\n",
    "if guess_me < 7:\n",
    "    str = \"too low\"\n",
    "elif guess_me > 7:\n",
    "    str = \"too high\"\n",
    "else:\n",
    "    str = \"just right\"\n",
    "\n",
    "print(str)"
   ]
  },
  {
   "cell_type": "raw",
   "metadata": {},
   "source": [
    "4.2 quess_me 변수에 7을 할당하고, start 변수에 1을 할당한다. Start 와 quess_me 를 비교하는 while 문을 작성하라. Start 가 guess_me 보다 작은 경우에는 'too low' 를 출력한다. Start 와 guess_me 가 같은 경우에는 'found it!' 을 출력하고 루프를 종료한다. Start 가 quess_me 보다 큰 경우에는 'oops' 를 출력하고 루프를 종료한다. 그리고 루프의 마지막에 start 를 1씩 증가시킨다."
   ]
  },
  {
   "cell_type": "code",
   "execution_count": null,
   "metadata": {},
   "outputs": [],
   "source": [
    "while()"
   ]
  }
 ],
 "metadata": {
  "kernelspec": {
   "display_name": "Python 3",
   "language": "python",
   "name": "python3"
  },
  "language_info": {
   "codemirror_mode": {
    "name": "ipython",
    "version": 3
   },
   "file_extension": ".py",
   "mimetype": "text/x-python",
   "name": "python",
   "nbconvert_exporter": "python",
   "pygments_lexer": "ipython3",
   "version": "3.6.4"
  }
 },
 "nbformat": 4,
 "nbformat_minor": 2
}

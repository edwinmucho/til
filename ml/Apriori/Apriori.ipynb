{
 "cells": [
  {
   "cell_type": "markdown",
   "metadata": {},
   "source": [
    "## 어프라이어리 알고리즘\n",
    "\n",
    "- 장점: 코드 작성하기 쉽다.\n",
    "- 단점: 큰 데이터 집합일 수록 느려질 수 있다. ( DB를 Depth 만큼 호출해야 하기 때문.)\n",
    "- 수치형/명목형 값에 활용 가능.\n",
    "- 집합형태의 데이터 유형에 적합.\n",
    "- 자주 나오는 아이템 집합과 아이템 간의 연관 규칙을 찾는데 사용.\n",
    "\n",
    "* Support(지지도) : 모든 데이터 집합에서 아이템 집합(1개 이상)의 비율\n",
    "* Confidence(신뢰도) : A 라는 아이템에서 B로 선택되는 확률,즉 신뢰도 = (A->B)의 지지도 / (A의 지지도)"
   ]
  },
  {
   "cell_type": "code",
   "execution_count": 29,
   "metadata": {},
   "outputs": [],
   "source": [
    "import numpy as np"
   ]
  },
  {
   "cell_type": "code",
   "execution_count": 30,
   "metadata": {},
   "outputs": [],
   "source": [
    "def loadDataSet():\n",
    "    return [[1,3,4],[2,3,5],[1,2,3,5],[2,5]]"
   ]
  },
  {
   "cell_type": "code",
   "execution_count": 31,
   "metadata": {},
   "outputs": [],
   "source": [
    "def createC1(dataSet):\n",
    "    C1 = []                       # 유일한 값들을 저장하는데 사용.\n",
    "    for transaction in dataSet:\n",
    "        for item in transaction:\n",
    "            if not [item] in C1:  # C1에 해당 item 이 없으면 추가!\n",
    "                C1.append([item])\n",
    "    C1.sort()\n",
    "    return map(frozenset, C1)   # frozenset : 내용물을 바꿀수 없게 하는 함수. 고정된 집합으로 만들어줌.\n",
    "                                # 고정 집합을 사용하는 이유 : 해당 집합을 Dictionary의 키처럼 사용하기 위해 "
   ]
  },
  {
   "cell_type": "markdown",
   "metadata": {},
   "source": [
    "[Frozenset 자세한 설명 링크 !클릭!](https://www.programiz.com/python-programming/methods/built-in/frozenset)"
   ]
  },
  {
   "cell_type": "code",
   "execution_count": 112,
   "metadata": {},
   "outputs": [],
   "source": [
    "def scanD(D, Ck, minSupport):   # D: dataset / Ck: 후보 집합 리스트 / minSupport : 최소 지지도\n",
    "    ssCnt = {}\n",
    "    \n",
    "    for tid in D:\n",
    "        print(tid)\n",
    "        for can in Ck:\n",
    "            if can.issubset(tid):\n",
    "                if can not in ssCnt:\n",
    "                    ssCnt[can] = 1\n",
    "                else:\n",
    "                    ssCnt[can] += 1\n",
    "    \n",
    "    numItems = float(len(D))\n",
    "\n",
    "    retList = []\n",
    "    supportData = {}\n",
    "    \n",
    "    for key in ssCnt:\n",
    "        support = ssCnt[key] / numItems     # 모든 원소에 대해 지지도를 측정.\n",
    "        if support >= minSupport:           # 정한 최소 지지도 보다 크다면 저장.\n",
    "            retList.insert(0, key)\n",
    "        \n",
    "        supportData[key] = support\n",
    "        \n",
    "    return retList, supportData\n"
   ]
  },
  {
   "cell_type": "code",
   "execution_count": 119,
   "metadata": {},
   "outputs": [
    {
     "data": {
      "text/plain": [
       "[[1, 3, 4], [2, 3, 5], [1, 2, 3, 5], [2, 5]]"
      ]
     },
     "execution_count": 119,
     "metadata": {},
     "output_type": "execute_result"
    }
   ],
   "source": [
    "dataSet = loadDataSet()\n",
    "dataSet"
   ]
  },
  {
   "cell_type": "code",
   "execution_count": 120,
   "metadata": {},
   "outputs": [
    {
     "data": {
      "text/plain": [
       "[frozenset({1}),\n",
       " frozenset({2}),\n",
       " frozenset({3}),\n",
       " frozenset({4}),\n",
       " frozenset({5})]"
      ]
     },
     "execution_count": 120,
     "metadata": {},
     "output_type": "execute_result"
    }
   ],
   "source": [
    "ab = createC1(dataSet)\n",
    "C1 = list(ab) # C1 데이터 확인용.\n",
    "C1"
   ]
  },
  {
   "cell_type": "code",
   "execution_count": 121,
   "metadata": {},
   "outputs": [
    {
     "data": {
      "text/plain": [
       "[{1, 3, 4}, {2, 3, 5}, {1, 2, 3, 5}, {2, 5}]"
      ]
     },
     "execution_count": 121,
     "metadata": {},
     "output_type": "execute_result"
    }
   ],
   "source": [
    "cd = map(set, dataSet)\n",
    "D = list(cd) # D 데이터 확인용\n",
    "D"
   ]
  },
  {
   "cell_type": "code",
   "execution_count": 123,
   "metadata": {},
   "outputs": [
    {
     "name": "stdout",
     "output_type": "stream",
     "text": [
      "{1, 3, 4}\n",
      "{2, 3, 5}\n",
      "{1, 2, 3, 5}\n",
      "{2, 5}\n",
      "{frozenset({1}): 0.5, frozenset({3}): 0.75, frozenset({4}): 0.25, frozenset({2}): 0.75, frozenset({5}): 0.75}\n"
     ]
    }
   ],
   "source": [
    "L1, suppData0 = scanD(D, C1, 0.5)\n",
    "L1\n",
    "print(suppData0)"
   ]
  },
  {
   "cell_type": "code",
   "execution_count": 126,
   "metadata": {},
   "outputs": [],
   "source": [
    "def aprioriGen(Lk, k):\n",
    "    retList = []\n",
    "    lenLk = len(Lk)                  # Lk의 원소 갯수 파악\n",
    "    for i in range(lenLk):\n",
    "        for j in range(i + 1, lenLk):\n",
    "            L1 = list(Lk[i])[:k-2]\n",
    "            L2 = list(Lk[j])[:k-2]\n",
    "            L1.sort()\n",
    "            L2.sort()\n",
    "            \n",
    "            if L1 == L2:\n",
    "                retList.append(Lk[i] | Lk[j]) # 합집합\n",
    "                \n",
    "    return retList"
   ]
  },
  {
   "cell_type": "code",
   "execution_count": 127,
   "metadata": {},
   "outputs": [],
   "source": [
    "def apriori(dataSet, minSupport = 0.5):\n",
    "    C1 = list(createC1(dataSet))\n",
    "    D = list(map(set, dataSet))\n",
    "    L1, supportData = scanD(D, C1, minSupport)\n",
    "    L = [L1]\n",
    "    k = 2\n",
    "    \n",
    "    while (len(L[k-2]) > 0):\n",
    "        Ck = aprioriGen(L[k-2], k)\n",
    "        Lk, supK = scanD(D, Ck, minSupport)\n",
    "        supportData.update(supK)\n",
    "        L.append(Lk)\n",
    "        k += 1\n",
    "        \n",
    "    return L, supportData"
   ]
  },
  {
   "cell_type": "code",
   "execution_count": 131,
   "metadata": {
    "scrolled": false
   },
   "outputs": [
    {
     "name": "stdout",
     "output_type": "stream",
     "text": [
      "{1, 3, 4}\n",
      "{2, 3, 5}\n",
      "{1, 2, 3, 5}\n",
      "{2, 5}\n",
      "{1, 3, 4}\n",
      "{2, 3, 5}\n",
      "{1, 2, 3, 5}\n",
      "{2, 5}\n",
      "{1, 3, 4}\n",
      "{2, 3, 5}\n",
      "{1, 2, 3, 5}\n",
      "{2, 5}\n",
      "{1, 3, 4}\n",
      "{2, 3, 5}\n",
      "{1, 2, 3, 5}\n",
      "{2, 5}\n"
     ]
    },
    {
     "data": {
      "text/plain": [
       "[[frozenset({5}), frozenset({2}), frozenset({3}), frozenset({1})],\n",
       " [frozenset({2, 3}), frozenset({3, 5}), frozenset({2, 5}), frozenset({1, 3})],\n",
       " [frozenset({2, 3, 5})],\n",
       " []]"
      ]
     },
     "execution_count": 131,
     "metadata": {},
     "output_type": "execute_result"
    }
   ],
   "source": [
    "L, suppData = apriori(dataSet)\n",
    "L"
   ]
  },
  {
   "cell_type": "code",
   "execution_count": 133,
   "metadata": {},
   "outputs": [
    {
     "data": {
      "text/plain": [
       "[frozenset({5}), frozenset({2}), frozenset({3}), frozenset({1})]"
      ]
     },
     "execution_count": 133,
     "metadata": {},
     "output_type": "execute_result"
    }
   ],
   "source": [
    "L[0]"
   ]
  },
  {
   "cell_type": "code",
   "execution_count": 134,
   "metadata": {},
   "outputs": [
    {
     "data": {
      "text/plain": [
       "[frozenset({2, 3}), frozenset({3, 5}), frozenset({2, 5}), frozenset({1, 3})]"
      ]
     },
     "execution_count": 134,
     "metadata": {},
     "output_type": "execute_result"
    }
   ],
   "source": [
    "L[1]"
   ]
  },
  {
   "cell_type": "code",
   "execution_count": 136,
   "metadata": {},
   "outputs": [
    {
     "data": {
      "text/plain": [
       "[frozenset({2, 5}),\n",
       " frozenset({3, 5}),\n",
       " frozenset({1, 5}),\n",
       " frozenset({2, 3}),\n",
       " frozenset({1, 2}),\n",
       " frozenset({1, 3})]"
      ]
     },
     "execution_count": 136,
     "metadata": {},
     "output_type": "execute_result"
    }
   ],
   "source": [
    "aprioriGen(L[0], 2) # 6개의 결합이 나오면 apriori에서 scanD에 의해 2개가 걸러짐."
   ]
  },
  {
   "cell_type": "code",
   "execution_count": 137,
   "metadata": {},
   "outputs": [
    {
     "name": "stdout",
     "output_type": "stream",
     "text": [
      "{1, 3, 4}\n",
      "{2, 3, 5}\n",
      "{1, 2, 3, 5}\n",
      "{2, 5}\n",
      "{1, 3, 4}\n",
      "{2, 3, 5}\n",
      "{1, 2, 3, 5}\n",
      "{2, 5}\n",
      "{1, 3, 4}\n",
      "{2, 3, 5}\n",
      "{1, 2, 3, 5}\n",
      "{2, 5}\n"
     ]
    },
    {
     "data": {
      "text/plain": [
       "[[frozenset({5}), frozenset({2}), frozenset({3})], [frozenset({2, 5})], []]"
      ]
     },
     "execution_count": 137,
     "metadata": {},
     "output_type": "execute_result"
    }
   ],
   "source": [
    "L, suppData = apriori(dataSet, minSupport = 0.7) # 모든 트랜잭션의 70%에서 발생하는 아이템이 무엇인지 알기 위해 설정.\n",
    "L"
   ]
  },
  {
   "cell_type": "code",
   "execution_count": 138,
   "metadata": {},
   "outputs": [],
   "source": [
    "def generateRules(L, supportData, minConf = 0.7):\n",
    "    bigRuleList = []\n",
    "    for i in range(1, len(L)):\n",
    "        for freqSet in L[i]:\n",
    "            H1 = [frozenset([item]) for item in freqSet]\n",
    "            if (i > 1):\n",
    "                rulesFromConseq(freqSet, H1, supportData, bigRuleList, minConf)\n",
    "            else:\n",
    "                calcConf(freqSet, H1, supportData, bigRuleList, minConf)\n",
    "                \n",
    "    return bigRuleList"
   ]
  },
  {
   "cell_type": "code",
   "execution_count": 139,
   "metadata": {},
   "outputs": [],
   "source": [
    "def calcConf(freqSet, H, supportData, br1, minConf=0.7):\n",
    "    prunedH = []\n",
    "    for conseq in H:\n",
    "        conf = supportData[freqSet] / supportData[freqSet - conseq]\n",
    "        if conf >= minConf:\n",
    "            print(freqSet - conseq, \" --> \", conseq, \" conf:\", conf)\n",
    "            br1.append((freqSet-conseq, conseq, conf))\n",
    "            prunedH.append(conseq)\n",
    "    return prunedH"
   ]
  },
  {
   "cell_type": "code",
   "execution_count": 140,
   "metadata": {},
   "outputs": [],
   "source": [
    "def rulesFromConseq(freqSet, H, supportData, br1, minConf = 0.7):\n",
    "    m = len(H[0])\n",
    "    if (len(freqSet) > (m + 1)):\n",
    "        Hmp1 = aprioriGen(H, m + 1)\n",
    "        Hmp1 = calcConf(freqSet, Hmp1, supportData, br1, minConf)\n",
    "        if (len(Hmp1) > 1):\n",
    "            rulesFromConseq(freqSet, Hmp1, supportData, br1, minConf)"
   ]
  },
  {
   "cell_type": "code",
   "execution_count": 141,
   "metadata": {},
   "outputs": [
    {
     "name": "stdout",
     "output_type": "stream",
     "text": [
      "{1, 3, 4}\n",
      "{2, 3, 5}\n",
      "{1, 2, 3, 5}\n",
      "{2, 5}\n",
      "{1, 3, 4}\n",
      "{2, 3, 5}\n",
      "{1, 2, 3, 5}\n",
      "{2, 5}\n",
      "{1, 3, 4}\n",
      "{2, 3, 5}\n",
      "{1, 2, 3, 5}\n",
      "{2, 5}\n",
      "{1, 3, 4}\n",
      "{2, 3, 5}\n",
      "{1, 2, 3, 5}\n",
      "{2, 5}\n"
     ]
    }
   ],
   "source": [
    "L, suppData = apriori(dataSet, minSupport=0.5)"
   ]
  },
  {
   "cell_type": "code",
   "execution_count": 142,
   "metadata": {},
   "outputs": [
    {
     "name": "stdout",
     "output_type": "stream",
     "text": [
      "frozenset({5})  -->  frozenset({2})  conf: 1.0\n",
      "frozenset({2})  -->  frozenset({5})  conf: 1.0\n",
      "frozenset({1})  -->  frozenset({3})  conf: 1.0\n"
     ]
    }
   ],
   "source": [
    "rules = generateRules(L, suppData, minConf=0.7)"
   ]
  },
  {
   "cell_type": "code",
   "execution_count": 143,
   "metadata": {},
   "outputs": [
    {
     "data": {
      "text/plain": [
       "[(frozenset({5}), frozenset({2}), 1.0),\n",
       " (frozenset({2}), frozenset({5}), 1.0),\n",
       " (frozenset({1}), frozenset({3}), 1.0)]"
      ]
     },
     "execution_count": 143,
     "metadata": {},
     "output_type": "execute_result"
    }
   ],
   "source": [
    "rules"
   ]
  },
  {
   "cell_type": "code",
   "execution_count": 144,
   "metadata": {},
   "outputs": [
    {
     "name": "stdout",
     "output_type": "stream",
     "text": [
      "frozenset({3})  -->  frozenset({2})  conf: 0.6666666666666666\n",
      "frozenset({2})  -->  frozenset({3})  conf: 0.6666666666666666\n",
      "frozenset({5})  -->  frozenset({3})  conf: 0.6666666666666666\n",
      "frozenset({3})  -->  frozenset({5})  conf: 0.6666666666666666\n",
      "frozenset({5})  -->  frozenset({2})  conf: 1.0\n",
      "frozenset({2})  -->  frozenset({5})  conf: 1.0\n",
      "frozenset({3})  -->  frozenset({1})  conf: 0.6666666666666666\n",
      "frozenset({1})  -->  frozenset({3})  conf: 1.0\n",
      "frozenset({5})  -->  frozenset({2, 3})  conf: 0.6666666666666666\n",
      "frozenset({3})  -->  frozenset({2, 5})  conf: 0.6666666666666666\n",
      "frozenset({2})  -->  frozenset({3, 5})  conf: 0.6666666666666666\n"
     ]
    }
   ],
   "source": [
    "rules2 = generateRules(L, suppData, minConf=0.5)"
   ]
  },
  {
   "cell_type": "code",
   "execution_count": 146,
   "metadata": {},
   "outputs": [
    {
     "data": {
      "text/plain": [
       "[(frozenset({3}), frozenset({2}), 0.6666666666666666),\n",
       " (frozenset({2}), frozenset({3}), 0.6666666666666666),\n",
       " (frozenset({5}), frozenset({3}), 0.6666666666666666),\n",
       " (frozenset({3}), frozenset({5}), 0.6666666666666666),\n",
       " (frozenset({5}), frozenset({2}), 1.0),\n",
       " (frozenset({2}), frozenset({5}), 1.0),\n",
       " (frozenset({3}), frozenset({1}), 0.6666666666666666),\n",
       " (frozenset({1}), frozenset({3}), 1.0),\n",
       " (frozenset({5}), frozenset({2, 3}), 0.6666666666666666),\n",
       " (frozenset({3}), frozenset({2, 5}), 0.6666666666666666),\n",
       " (frozenset({2}), frozenset({3, 5}), 0.6666666666666666)]"
      ]
     },
     "execution_count": 146,
     "metadata": {},
     "output_type": "execute_result"
    }
   ],
   "source": [
    "rules2"
   ]
  },
  {
   "cell_type": "code",
   "execution_count": null,
   "metadata": {},
   "outputs": [],
   "source": []
  }
 ],
 "metadata": {
  "kernelspec": {
   "display_name": "Python 3",
   "language": "python",
   "name": "python3"
  },
  "language_info": {
   "codemirror_mode": {
    "name": "ipython",
    "version": 3
   },
   "file_extension": ".py",
   "mimetype": "text/x-python",
   "name": "python",
   "nbconvert_exporter": "python",
   "pygments_lexer": "ipython3",
   "version": "3.6.4"
  }
 },
 "nbformat": 4,
 "nbformat_minor": 2
}
